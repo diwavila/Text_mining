{
 "cells": [
  {
   "cell_type": "code",
   "execution_count": 4,
   "id": "a67b2ccc",
   "metadata": {},
   "outputs": [],
   "source": [
    "import pandas as pd\n",
    "import os\n",
    "import seaborn as sns\n",
    "import matplotlib.pyplot as plt\n",
    "import spacy"
   ]
  },
  {
   "cell_type": "code",
   "execution_count": 6,
   "id": "8330bf47",
   "metadata": {},
   "outputs": [],
   "source": [
    "df = pd.read_csv('/Users/diwavila/Desktop/TDDE16_TextMining/PROJECT/twitter_data/players_match2/match2/corpus.csv', sep=';')"
   ]
  },
  {
   "cell_type": "code",
   "execution_count": 3,
   "id": "63a3ccc5",
   "metadata": {},
   "outputs": [],
   "source": [
    "path = \"/Users/diwavila/Desktop/TDDE16_TextMining/PROJECT/twitter_data/players_match2/match2\"\n",
    "files = [f for f in os.listdir(path) if os.path.splitext(path+f)[1] == '.csv']\n",
    "df = pd.DataFrame()\n",
    "for file in files:\n",
    "    df2 = pd.read_csv(path+'/'+file, sep=';')\n",
    "    df2['tag'] = df2['tag'].fillna('L')\n",
    "    df = pd.concat([df, df2], ignore_index = True)\n",
    "\n",
    "df = df.replace('B', 'N')\n",
    "df = df.replace('`', 'P')\n"
   ]
  },
  {
   "cell_type": "code",
   "execution_count": 9,
   "id": "97dfbed1",
   "metadata": {},
   "outputs": [],
   "source": [
    "df = df[['id', 'created_at', 'text', 'tag', 'reply_id', 'quote_id', 'player']]"
   ]
  },
  {
   "cell_type": "code",
   "execution_count": 10,
   "id": "24389bec",
   "metadata": {},
   "outputs": [
    {
     "data": {
      "text/html": [
       "<div>\n",
       "<style scoped>\n",
       "    .dataframe tbody tr th:only-of-type {\n",
       "        vertical-align: middle;\n",
       "    }\n",
       "\n",
       "    .dataframe tbody tr th {\n",
       "        vertical-align: top;\n",
       "    }\n",
       "\n",
       "    .dataframe thead th {\n",
       "        text-align: right;\n",
       "    }\n",
       "</style>\n",
       "<table border=\"1\" class=\"dataframe\">\n",
       "  <thead>\n",
       "    <tr style=\"text-align: right;\">\n",
       "      <th></th>\n",
       "      <th>id</th>\n",
       "      <th>created_at</th>\n",
       "      <th>text</th>\n",
       "      <th>tag</th>\n",
       "      <th>reply_id</th>\n",
       "      <th>quote_id</th>\n",
       "      <th>player</th>\n",
       "    </tr>\n",
       "  </thead>\n",
       "  <tbody>\n",
       "    <tr>\n",
       "      <th>0</th>\n",
       "      <td>1596955509739098114</td>\n",
       "      <td>Sun Nov 27 19:53:58 +0000 2022</td>\n",
       "      <td>@Ferranismo11FCB Que se vaya carvajal y entre ...</td>\n",
       "      <td>L</td>\n",
       "      <td>1.596954e+18</td>\n",
       "      <td>NaN</td>\n",
       "      <td>2</td>\n",
       "    </tr>\n",
       "    <tr>\n",
       "      <th>1</th>\n",
       "      <td>1596960117542760449</td>\n",
       "      <td>Sun Nov 27 20:12:16 +0000 2022</td>\n",
       "      <td>Teniendo a Azpilicueta que es un seguro atrás,...</td>\n",
       "      <td>N</td>\n",
       "      <td>NaN</td>\n",
       "      <td>NaN</td>\n",
       "      <td>2</td>\n",
       "    </tr>\n",
       "    <tr>\n",
       "      <th>2</th>\n",
       "      <td>1596975636639514624</td>\n",
       "      <td>Sun Nov 27 21:13:56 +0000 2022</td>\n",
       "      <td>Azpilicueta&amp;gt;&amp;gt;Carcamal\\nKoke es una mula ...</td>\n",
       "      <td>N</td>\n",
       "      <td>NaN</td>\n",
       "      <td>NaN</td>\n",
       "      <td>2</td>\n",
       "    </tr>\n",
       "    <tr>\n",
       "      <th>3</th>\n",
       "      <td>1596972787327205376</td>\n",
       "      <td>Sun Nov 27 21:02:37 +0000 2022</td>\n",
       "      <td>el que no me ha gustado nada es Carvajal, muy ...</td>\n",
       "      <td>P</td>\n",
       "      <td>NaN</td>\n",
       "      <td>NaN</td>\n",
       "      <td>2</td>\n",
       "    </tr>\n",
       "    <tr>\n",
       "      <th>4</th>\n",
       "      <td>1596972794210029569</td>\n",
       "      <td>Sun Nov 27 21:02:39 +0000 2022</td>\n",
       "      <td>@Ferranismo11FCB Y la verdad prefiero Rodri pi...</td>\n",
       "      <td>P</td>\n",
       "      <td>1.596972e+18</td>\n",
       "      <td>NaN</td>\n",
       "      <td>2</td>\n",
       "    </tr>\n",
       "    <tr>\n",
       "      <th>...</th>\n",
       "      <td>...</td>\n",
       "      <td>...</td>\n",
       "      <td>...</td>\n",
       "      <td>...</td>\n",
       "      <td>...</td>\n",
       "      <td>...</td>\n",
       "      <td>...</td>\n",
       "    </tr>\n",
       "    <tr>\n",
       "      <th>21104</th>\n",
       "      <td>1596971555803697153</td>\n",
       "      <td>Sun Nov 27 20:57:43 +0000 2022</td>\n",
       "      <td>#Qatar2022    74´⏳|🔥 ¡Más cambios para ambos e...</td>\n",
       "      <td>L</td>\n",
       "      <td>NaN</td>\n",
       "      <td>1.596965e+18</td>\n",
       "      <td>10</td>\n",
       "    </tr>\n",
       "    <tr>\n",
       "      <th>21105</th>\n",
       "      <td>1596971565383847937</td>\n",
       "      <td>Sun Nov 27 20:57:46 +0000 2022</td>\n",
       "      <td>@_Futbolero_ Le salió mal la jugada a lucho. N...</td>\n",
       "      <td>N</td>\n",
       "      <td>1.596970e+18</td>\n",
       "      <td>NaN</td>\n",
       "      <td>10</td>\n",
       "    </tr>\n",
       "    <tr>\n",
       "      <th>21106</th>\n",
       "      <td>1596971571884630016</td>\n",
       "      <td>Sun Nov 27 20:57:47 +0000 2022</td>\n",
       "      <td>España puede lograrlo...pero no con Olmo, Asen...</td>\n",
       "      <td>L</td>\n",
       "      <td>NaN</td>\n",
       "      <td>NaN</td>\n",
       "      <td>10</td>\n",
       "    </tr>\n",
       "    <tr>\n",
       "      <th>21107</th>\n",
       "      <td>1596971573030064128</td>\n",
       "      <td>Sun Nov 27 20:57:47 +0000 2022</td>\n",
       "      <td>@adrianceitor_ Dirás de Asensio</td>\n",
       "      <td>L</td>\n",
       "      <td>1.596951e+18</td>\n",
       "      <td>NaN</td>\n",
       "      <td>10</td>\n",
       "    </tr>\n",
       "    <tr>\n",
       "      <th>21108</th>\n",
       "      <td>1596971576934961152</td>\n",
       "      <td>Sun Nov 27 20:57:48 +0000 2022</td>\n",
       "      <td>Ferran torres,Nico Williams,Rodri,Laporte y As...</td>\n",
       "      <td>N</td>\n",
       "      <td>NaN</td>\n",
       "      <td>NaN</td>\n",
       "      <td>10</td>\n",
       "    </tr>\n",
       "  </tbody>\n",
       "</table>\n",
       "<p>21109 rows × 7 columns</p>\n",
       "</div>"
      ],
      "text/plain": [
       "                        id                      created_at  \\\n",
       "0      1596955509739098114  Sun Nov 27 19:53:58 +0000 2022   \n",
       "1      1596960117542760449  Sun Nov 27 20:12:16 +0000 2022   \n",
       "2      1596975636639514624  Sun Nov 27 21:13:56 +0000 2022   \n",
       "3      1596972787327205376  Sun Nov 27 21:02:37 +0000 2022   \n",
       "4      1596972794210029569  Sun Nov 27 21:02:39 +0000 2022   \n",
       "...                    ...                             ...   \n",
       "21104  1596971555803697153  Sun Nov 27 20:57:43 +0000 2022   \n",
       "21105  1596971565383847937  Sun Nov 27 20:57:46 +0000 2022   \n",
       "21106  1596971571884630016  Sun Nov 27 20:57:47 +0000 2022   \n",
       "21107  1596971573030064128  Sun Nov 27 20:57:47 +0000 2022   \n",
       "21108  1596971576934961152  Sun Nov 27 20:57:48 +0000 2022   \n",
       "\n",
       "                                                    text tag      reply_id  \\\n",
       "0      @Ferranismo11FCB Que se vaya carvajal y entre ...   L  1.596954e+18   \n",
       "1      Teniendo a Azpilicueta que es un seguro atrás,...   N           NaN   \n",
       "2      Azpilicueta&gt;&gt;Carcamal\\nKoke es una mula ...   N           NaN   \n",
       "3      el que no me ha gustado nada es Carvajal, muy ...   P           NaN   \n",
       "4      @Ferranismo11FCB Y la verdad prefiero Rodri pi...   P  1.596972e+18   \n",
       "...                                                  ...  ..           ...   \n",
       "21104  #Qatar2022    74´⏳|🔥 ¡Más cambios para ambos e...   L           NaN   \n",
       "21105  @_Futbolero_ Le salió mal la jugada a lucho. N...   N  1.596970e+18   \n",
       "21106  España puede lograrlo...pero no con Olmo, Asen...   L           NaN   \n",
       "21107                    @adrianceitor_ Dirás de Asensio   L  1.596951e+18   \n",
       "21108  Ferran torres,Nico Williams,Rodri,Laporte y As...   N           NaN   \n",
       "\n",
       "           quote_id  player  \n",
       "0               NaN       2  \n",
       "1               NaN       2  \n",
       "2               NaN       2  \n",
       "3               NaN       2  \n",
       "4               NaN       2  \n",
       "...             ...     ...  \n",
       "21104  1.596965e+18      10  \n",
       "21105           NaN      10  \n",
       "21106           NaN      10  \n",
       "21107           NaN      10  \n",
       "21108           NaN      10  \n",
       "\n",
       "[21109 rows x 7 columns]"
      ]
     },
     "execution_count": 10,
     "metadata": {},
     "output_type": "execute_result"
    }
   ],
   "source": [
    "df"
   ]
  },
  {
   "cell_type": "code",
   "execution_count": 10,
   "id": "6e8ae862",
   "metadata": {},
   "outputs": [],
   "source": []
  },
  {
   "cell_type": "code",
   "execution_count": 19,
   "id": "cff4bb6d",
   "metadata": {},
   "outputs": [
    {
     "name": "stderr",
     "output_type": "stream",
     "text": [
      "/var/folders/m_/sjy4yzd51kx41_rt51gdxtm00000gn/T/ipykernel_34268/2263649832.py:1: SettingWithCopyWarning: \n",
      "A value is trying to be set on a copy of a slice from a DataFrame.\n",
      "Try using .loc[row_indexer,col_indexer] = value instead\n",
      "\n",
      "See the caveats in the documentation: https://pandas.pydata.org/pandas-docs/stable/user_guide/indexing.html#returning-a-view-versus-a-copy\n",
      "  df['tag'] = df['tag'].fillna('L')\n"
     ]
    }
   ],
   "source": [
    "df['tag'] = df['tag'].fillna('L')"
   ]
  },
  {
   "cell_type": "code",
   "execution_count": 23,
   "id": "b7a869ee",
   "metadata": {},
   "outputs": [],
   "source": [
    "df = df.replace('B', 'N')"
   ]
  },
  {
   "cell_type": "code",
   "execution_count": 10,
   "id": "000cd3ed",
   "metadata": {},
   "outputs": [],
   "source": [
    "aux = pd.DataFrame({'count' : df.groupby( [ \"tag\", \"player\"] ).size()}).reset_index()\n",
    "aux2 = pd.DataFrame({'count' : df.groupby( [ \"tag\"] ).size()}).reset_index()\n",
    "aux3 = pd.DataFrame({'count' : df.groupby ( [\"player\"] ).size()}).reset_index()"
   ]
  },
  {
   "cell_type": "code",
   "execution_count": 11,
   "id": "6a4c2343",
   "metadata": {},
   "outputs": [
    {
     "data": {
      "text/plain": [
       "<AxesSubplot:xlabel='player', ylabel='count'>"
      ]
     },
     "execution_count": 11,
     "metadata": {},
     "output_type": "execute_result"
    },
    {
     "data": {
      "image/png": "[encoded data removed]",
      "text/plain": [
       "<Figure size 432x288 with 1 Axes>"
      ]
     },
     "metadata": {
      "needs_background": "light"
     },
     "output_type": "display_data"
    }
   ],
   "source": [
    "sns.barplot(data=aux, x=\"player\", y=\"count\", hue=\"tag\")"
   ]
  },
  {
   "cell_type": "code",
   "execution_count": 12,
   "id": "63eeab0c",
   "metadata": {},
   "outputs": [
    {
     "data": {
      "text/plain": [
       "<AxesSubplot:xlabel='tag', ylabel='count'>"
      ]
     },
     "execution_count": 12,
     "metadata": {},
     "output_type": "execute_result"
    },
    {
     "data": {
      "image/png": "[encoded data removed]",
      "text/plain": [
       "<Figure size 432x288 with 1 Axes>"
      ]
     },
     "metadata": {
      "needs_background": "light"
     },
     "output_type": "display_data"
    }
   ],
   "source": [
    "sns.barplot(data=aux2, x=\"tag\", y=\"count\")"
   ]
  },
  {
   "cell_type": "code",
   "execution_count": 15,
   "id": "9e911884",
   "metadata": {},
   "outputs": [
    {
     "data": {
      "text/plain": [
       "<AxesSubplot:xlabel='player', ylabel='count'>"
      ]
     },
     "execution_count": 15,
     "metadata": {},
     "output_type": "execute_result"
    },
    {
     "data": {
      "image/png": "[encoded data removed]",
      "text/plain": [
       "<Figure size 432x288 with 1 Axes>"
      ]
     },
     "metadata": {
      "needs_background": "light"
     },
     "output_type": "display_data"
    }
   ],
   "source": [
    "sns.barplot(data=aux3, x=\"player\", y=\"count\", color='cornflowerblue')"
   ]
  },
  {
   "cell_type": "code",
   "execution_count": 16,
   "id": "28dee776",
   "metadata": {
    "scrolled": true
   },
   "outputs": [
    {
     "data": {
      "text/html": [
       "<div>\n",
       "<style scoped>\n",
       "    .dataframe tbody tr th:only-of-type {\n",
       "        vertical-align: middle;\n",
       "    }\n",
       "\n",
       "    .dataframe tbody tr th {\n",
       "        vertical-align: top;\n",
       "    }\n",
       "\n",
       "    .dataframe thead th {\n",
       "        text-align: right;\n",
       "    }\n",
       "</style>\n",
       "<table border=\"1\" class=\"dataframe\">\n",
       "  <thead>\n",
       "    <tr style=\"text-align: right;\">\n",
       "      <th>tag</th>\n",
       "      <th>L</th>\n",
       "      <th>N</th>\n",
       "      <th>P</th>\n",
       "      <th>max_value</th>\n",
       "    </tr>\n",
       "    <tr>\n",
       "      <th>player</th>\n",
       "      <th></th>\n",
       "      <th></th>\n",
       "      <th></th>\n",
       "      <th></th>\n",
       "    </tr>\n",
       "  </thead>\n",
       "  <tbody>\n",
       "    <tr>\n",
       "      <th>0</th>\n",
       "      <td>38.17</td>\n",
       "      <td>22.76</td>\n",
       "      <td>39.07</td>\n",
       "      <td>positive</td>\n",
       "    </tr>\n",
       "    <tr>\n",
       "      <th>2</th>\n",
       "      <td>57.49</td>\n",
       "      <td>11.93</td>\n",
       "      <td>30.58</td>\n",
       "      <td>neutral</td>\n",
       "    </tr>\n",
       "    <tr>\n",
       "      <th>3</th>\n",
       "      <td>32.63</td>\n",
       "      <td>46.61</td>\n",
       "      <td>20.76</td>\n",
       "      <td>negative</td>\n",
       "    </tr>\n",
       "    <tr>\n",
       "      <th>4</th>\n",
       "      <td>58.56</td>\n",
       "      <td>26.13</td>\n",
       "      <td>15.32</td>\n",
       "      <td>neutral</td>\n",
       "    </tr>\n",
       "    <tr>\n",
       "      <th>5</th>\n",
       "      <td>45.00</td>\n",
       "      <td>32.05</td>\n",
       "      <td>22.95</td>\n",
       "      <td>neutral</td>\n",
       "    </tr>\n",
       "    <tr>\n",
       "      <th>7</th>\n",
       "      <td>55.01</td>\n",
       "      <td>9.43</td>\n",
       "      <td>35.56</td>\n",
       "      <td>neutral</td>\n",
       "    </tr>\n",
       "    <tr>\n",
       "      <th>8</th>\n",
       "      <td>27.59</td>\n",
       "      <td>65.73</td>\n",
       "      <td>6.69</td>\n",
       "      <td>negative</td>\n",
       "    </tr>\n",
       "    <tr>\n",
       "      <th>9</th>\n",
       "      <td>32.81</td>\n",
       "      <td>27.32</td>\n",
       "      <td>39.86</td>\n",
       "      <td>positive</td>\n",
       "    </tr>\n",
       "    <tr>\n",
       "      <th>10</th>\n",
       "      <td>50.48</td>\n",
       "      <td>33.16</td>\n",
       "      <td>16.36</td>\n",
       "      <td>neutral</td>\n",
       "    </tr>\n",
       "    <tr>\n",
       "      <th>11</th>\n",
       "      <td>45.80</td>\n",
       "      <td>48.25</td>\n",
       "      <td>5.95</td>\n",
       "      <td>negative</td>\n",
       "    </tr>\n",
       "    <tr>\n",
       "      <th>12</th>\n",
       "      <td>34.55</td>\n",
       "      <td>40.50</td>\n",
       "      <td>24.95</td>\n",
       "      <td>negative</td>\n",
       "    </tr>\n",
       "    <tr>\n",
       "      <th>14</th>\n",
       "      <td>43.46</td>\n",
       "      <td>35.45</td>\n",
       "      <td>21.09</td>\n",
       "      <td>neutral</td>\n",
       "    </tr>\n",
       "    <tr>\n",
       "      <th>15</th>\n",
       "      <td>38.10</td>\n",
       "      <td>4.76</td>\n",
       "      <td>57.14</td>\n",
       "      <td>positive</td>\n",
       "    </tr>\n",
       "    <tr>\n",
       "      <th>16</th>\n",
       "      <td>50.96</td>\n",
       "      <td>25.63</td>\n",
       "      <td>23.41</td>\n",
       "      <td>neutral</td>\n",
       "    </tr>\n",
       "    <tr>\n",
       "      <th>19</th>\n",
       "      <td>35.44</td>\n",
       "      <td>25.73</td>\n",
       "      <td>38.83</td>\n",
       "      <td>positive</td>\n",
       "    </tr>\n",
       "    <tr>\n",
       "      <th>20</th>\n",
       "      <td>32.45</td>\n",
       "      <td>60.29</td>\n",
       "      <td>7.26</td>\n",
       "      <td>negative</td>\n",
       "    </tr>\n",
       "    <tr>\n",
       "      <th>21</th>\n",
       "      <td>42.23</td>\n",
       "      <td>26.70</td>\n",
       "      <td>31.07</td>\n",
       "      <td>neutral</td>\n",
       "    </tr>\n",
       "    <tr>\n",
       "      <th>22</th>\n",
       "      <td>31.46</td>\n",
       "      <td>49.44</td>\n",
       "      <td>19.10</td>\n",
       "      <td>negative</td>\n",
       "    </tr>\n",
       "    <tr>\n",
       "      <th>23</th>\n",
       "      <td>29.41</td>\n",
       "      <td>29.51</td>\n",
       "      <td>41.08</td>\n",
       "      <td>positive</td>\n",
       "    </tr>\n",
       "    <tr>\n",
       "      <th>24</th>\n",
       "      <td>53.60</td>\n",
       "      <td>30.40</td>\n",
       "      <td>16.00</td>\n",
       "      <td>neutral</td>\n",
       "    </tr>\n",
       "    <tr>\n",
       "      <th>25</th>\n",
       "      <td>43.95</td>\n",
       "      <td>17.24</td>\n",
       "      <td>38.81</td>\n",
       "      <td>neutral</td>\n",
       "    </tr>\n",
       "    <tr>\n",
       "      <th>26</th>\n",
       "      <td>30.13</td>\n",
       "      <td>16.13</td>\n",
       "      <td>53.74</td>\n",
       "      <td>positive</td>\n",
       "    </tr>\n",
       "  </tbody>\n",
       "</table>\n",
       "</div>"
      ],
      "text/plain": [
       "tag         L      N      P max_value\n",
       "player                               \n",
       "0       38.17  22.76  39.07  positive\n",
       "2       57.49  11.93  30.58   neutral\n",
       "3       32.63  46.61  20.76  negative\n",
       "4       58.56  26.13  15.32   neutral\n",
       "5       45.00  32.05  22.95   neutral\n",
       "7       55.01   9.43  35.56   neutral\n",
       "8       27.59  65.73   6.69  negative\n",
       "9       32.81  27.32  39.86  positive\n",
       "10      50.48  33.16  16.36   neutral\n",
       "11      45.80  48.25   5.95  negative\n",
       "12      34.55  40.50  24.95  negative\n",
       "14      43.46  35.45  21.09   neutral\n",
       "15      38.10   4.76  57.14  positive\n",
       "16      50.96  25.63  23.41   neutral\n",
       "19      35.44  25.73  38.83  positive\n",
       "20      32.45  60.29   7.26  negative\n",
       "21      42.23  26.70  31.07   neutral\n",
       "22      31.46  49.44  19.10  negative\n",
       "23      29.41  29.51  41.08  positive\n",
       "24      53.60  30.40  16.00   neutral\n",
       "25      43.95  17.24  38.81   neutral\n",
       "26      30.13  16.13  53.74  positive"
      ]
     },
     "execution_count": 16,
     "metadata": {},
     "output_type": "execute_result"
    }
   ],
   "source": [
    "# x cada player: tag / sum count -> %\n",
    "player_sum = aux.groupby(['player', 'tag'])['count'].sum().reset_index()\n",
    "# pivot -> count of tag by player\n",
    "pivoted_df = player_sum.pivot_table(index='player', columns='tag', values='count', aggfunc='sum', fill_value=0)\n",
    "total_count= pivoted_df.sum(axis=1)\n",
    "\n",
    "percentages = (pivoted_df.divide(total_count, axis=0)*100).round(2)\n",
    "max_tag = percentages.idxmax(axis=1)\n",
    "\n",
    "percentages['max_value'] = max_tag\n",
    "percentages.loc[percentages['max_value'] == 'P', 'max_value'] = 'positive'\n",
    "percentages.loc[percentages['max_value'] == 'N', 'max_value'] = 'negative'\n",
    "percentages.loc[percentages['max_value'] == 'L', 'max_value'] = 'neutral'\n",
    "\n",
    "percentages"
   ]
  },
  {
   "cell_type": "code",
   "execution_count": 5,
   "id": "682b1c95",
   "metadata": {},
   "outputs": [],
   "source": [
    "# divide train test\n",
    "from sklearn.model_selection import train_test_split\n",
    "X = df.drop(columns=['tag'])\n",
    "y = df['tag']\n",
    "\n",
    "X_train, X_test, y_train, y_test = train_test_split(X, y, test_size = 0.3, random_state=42) #14776, 6333"
   ]
  },
  {
   "cell_type": "code",
   "execution_count": 20,
   "id": "1a657a22",
   "metadata": {},
   "outputs": [
    {
     "data": {
      "text/plain": [
       "0.33845425013535463"
      ]
     },
     "execution_count": 20,
     "metadata": {},
     "output_type": "execute_result"
    }
   ],
   "source": [
    "# RANDOM BASELINES\n",
    "from sklearn.dummy import DummyClassifier\n",
    "dummy_clf = DummyClassifier(strategy=\"stratified\")\n",
    "dummy_clf.fit(X_train[\"text\"] ,y_train )\n",
    "dummy_clf.score(X_train[\"text\"] , y_train)"
   ]
  },
  {
   "cell_type": "code",
   "execution_count": 21,
   "id": "b867a798",
   "metadata": {},
   "outputs": [
    {
     "data": {
      "text/plain": [
       "0.397265836491608"
      ]
     },
     "execution_count": 21,
     "metadata": {},
     "output_type": "execute_result"
    }
   ],
   "source": [
    "dummy_clf_mf = DummyClassifier(strategy=\"most_frequent\")\n",
    "dummy_clf_mf.fit(X_train[\"text\"] ,y_train )\n",
    "dummy_clf_mf.score(X_train[\"text\"] , y_train)"
   ]
  },
  {
   "cell_type": "code",
   "execution_count": 31,
   "id": "42f84e7e",
   "metadata": {},
   "outputs": [
    {
     "name": "stdout",
     "output_type": "stream",
     "text": [
      "\u001b[33mDEPRECATION: Configuring installation scheme with distutils config files is deprecated and will no longer work in the near future. If you are using a Homebrew or Linuxbrew Python, please see discussion at https://github.com/Homebrew/homebrew-core/issues/76621\u001b[0m\n",
      "Collecting es-core-news-sm==3.4.0\n",
      "  Downloading https://github.com/explosion/spacy-models/releases/download/es_core_news_sm-3.4.0/es_core_news_sm-3.4.0-py3-none-any.whl (12.9 MB)\n",
      "     |████████████████████████████████| 12.9 MB 2.0 MB/s            \n",
      "\u001b[?25hRequirement already satisfied: spacy<3.5.0,>=3.4.0 in /usr/local/lib/python3.9/site-packages (from es-core-news-sm==3.4.0) (3.4.2)\n",
      "Requirement already satisfied: pathy>=0.3.5 in /usr/local/lib/python3.9/site-packages (from spacy<3.5.0,>=3.4.0->es-core-news-sm==3.4.0) (0.6.2)\n",
      "Requirement already satisfied: cymem<2.1.0,>=2.0.2 in /usr/local/lib/python3.9/site-packages (from spacy<3.5.0,>=3.4.0->es-core-news-sm==3.4.0) (2.0.7)\n",
      "Requirement already satisfied: numpy>=1.15.0 in /usr/local/lib/python3.9/site-packages (from spacy<3.5.0,>=3.4.0->es-core-news-sm==3.4.0) (1.20.2)\n",
      "Requirement already satisfied: spacy-loggers<2.0.0,>=1.0.0 in /usr/local/lib/python3.9/site-packages (from spacy<3.5.0,>=3.4.0->es-core-news-sm==3.4.0) (1.0.3)\n",
      "Requirement already satisfied: langcodes<4.0.0,>=3.2.0 in /usr/local/lib/python3.9/site-packages (from spacy<3.5.0,>=3.4.0->es-core-news-sm==3.4.0) (3.3.0)\n",
      "Requirement already satisfied: tqdm<5.0.0,>=4.38.0 in /usr/local/lib/python3.9/site-packages (from spacy<3.5.0,>=3.4.0->es-core-news-sm==3.4.0) (4.60.0)\n",
      "Requirement already satisfied: spacy-legacy<3.1.0,>=3.0.10 in /usr/local/lib/python3.9/site-packages (from spacy<3.5.0,>=3.4.0->es-core-news-sm==3.4.0) (3.0.10)\n",
      "Requirement already satisfied: packaging>=20.0 in /usr/local/lib/python3.9/site-packages (from spacy<3.5.0,>=3.4.0->es-core-news-sm==3.4.0) (21.3)\n",
      "Requirement already satisfied: srsly<3.0.0,>=2.4.3 in /usr/local/lib/python3.9/site-packages (from spacy<3.5.0,>=3.4.0->es-core-news-sm==3.4.0) (2.4.5)\n",
      "Requirement already satisfied: pydantic!=1.8,!=1.8.1,<1.11.0,>=1.7.4 in /usr/local/lib/python3.9/site-packages (from spacy<3.5.0,>=3.4.0->es-core-news-sm==3.4.0) (1.10.2)\n",
      "Requirement already satisfied: requests<3.0.0,>=2.13.0 in /usr/local/lib/python3.9/site-packages (from spacy<3.5.0,>=3.4.0->es-core-news-sm==3.4.0) (2.28.1)\n",
      "Requirement already satisfied: jinja2 in /usr/local/lib/python3.9/site-packages (from spacy<3.5.0,>=3.4.0->es-core-news-sm==3.4.0) (3.1.2)\n",
      "Requirement already satisfied: thinc<8.2.0,>=8.1.0 in /usr/local/lib/python3.9/site-packages (from spacy<3.5.0,>=3.4.0->es-core-news-sm==3.4.0) (8.1.5)\n",
      "Requirement already satisfied: murmurhash<1.1.0,>=0.28.0 in /usr/local/lib/python3.9/site-packages (from spacy<3.5.0,>=3.4.0->es-core-news-sm==3.4.0) (1.0.9)\n",
      "Requirement already satisfied: setuptools in /usr/local/lib/python3.9/site-packages (from spacy<3.5.0,>=3.4.0->es-core-news-sm==3.4.0) (60.5.0)\n",
      "Requirement already satisfied: catalogue<2.1.0,>=2.0.6 in /usr/local/lib/python3.9/site-packages (from spacy<3.5.0,>=3.4.0->es-core-news-sm==3.4.0) (2.0.8)\n",
      "Requirement already satisfied: wasabi<1.1.0,>=0.9.1 in /usr/local/lib/python3.9/site-packages (from spacy<3.5.0,>=3.4.0->es-core-news-sm==3.4.0) (0.10.1)\n",
      "Requirement already satisfied: typer<0.5.0,>=0.3.0 in /usr/local/lib/python3.9/site-packages (from spacy<3.5.0,>=3.4.0->es-core-news-sm==3.4.0) (0.4.2)\n",
      "Requirement already satisfied: preshed<3.1.0,>=3.0.2 in /usr/local/lib/python3.9/site-packages (from spacy<3.5.0,>=3.4.0->es-core-news-sm==3.4.0) (3.0.8)\n",
      "Requirement already satisfied: pyparsing!=3.0.5,>=2.0.2 in /usr/local/lib/python3.9/site-packages (from packaging>=20.0->spacy<3.5.0,>=3.4.0->es-core-news-sm==3.4.0) (2.4.7)\n",
      "Requirement already satisfied: smart-open<6.0.0,>=5.2.1 in /usr/local/lib/python3.9/site-packages (from pathy>=0.3.5->spacy<3.5.0,>=3.4.0->es-core-news-sm==3.4.0) (5.2.1)\n",
      "Requirement already satisfied: typing-extensions>=4.1.0 in /usr/local/lib/python3.9/site-packages (from pydantic!=1.8,!=1.8.1,<1.11.0,>=1.7.4->spacy<3.5.0,>=3.4.0->es-core-news-sm==3.4.0) (4.4.0)\n",
      "Requirement already satisfied: urllib3<1.27,>=1.21.1 in /usr/local/lib/python3.9/site-packages (from requests<3.0.0,>=2.13.0->spacy<3.5.0,>=3.4.0->es-core-news-sm==3.4.0) (1.26.4)\n",
      "Requirement already satisfied: idna<4,>=2.5 in /usr/local/lib/python3.9/site-packages (from requests<3.0.0,>=2.13.0->spacy<3.5.0,>=3.4.0->es-core-news-sm==3.4.0) (2.10)\n",
      "Requirement already satisfied: charset-normalizer<3,>=2 in /usr/local/lib/python3.9/site-packages (from requests<3.0.0,>=2.13.0->spacy<3.5.0,>=3.4.0->es-core-news-sm==3.4.0) (2.1.1)\n",
      "Requirement already satisfied: certifi>=2017.4.17 in /usr/local/lib/python3.9/site-packages (from requests<3.0.0,>=2.13.0->spacy<3.5.0,>=3.4.0->es-core-news-sm==3.4.0) (2020.12.5)\n",
      "Requirement already satisfied: blis<0.8.0,>=0.7.8 in /usr/local/lib/python3.9/site-packages (from thinc<8.2.0,>=8.1.0->spacy<3.5.0,>=3.4.0->es-core-news-sm==3.4.0) (0.7.9)\n",
      "Requirement already satisfied: confection<1.0.0,>=0.0.1 in /usr/local/lib/python3.9/site-packages (from thinc<8.2.0,>=8.1.0->spacy<3.5.0,>=3.4.0->es-core-news-sm==3.4.0) (0.0.3)\n",
      "Requirement already satisfied: click<9.0.0,>=7.1.1 in /usr/local/lib/python3.9/site-packages (from typer<0.5.0,>=0.3.0->spacy<3.5.0,>=3.4.0->es-core-news-sm==3.4.0) (7.1.2)\n",
      "Requirement already satisfied: MarkupSafe>=2.0 in /usr/local/lib/python3.9/site-packages (from jinja2->spacy<3.5.0,>=3.4.0->es-core-news-sm==3.4.0) (2.1.1)\n",
      "Installing collected packages: es-core-news-sm\n",
      "\u001b[33mDEPRECATION: Configuring installation scheme with distutils config files is deprecated and will no longer work in the near future. If you are using a Homebrew or Linuxbrew Python, please see discussion at https://github.com/Homebrew/homebrew-core/issues/76621\u001b[0m\n",
      "Successfully installed es-core-news-sm-3.4.0\n",
      "\u001b[33mWARNING: You are using pip version 21.3.1; however, version 23.0.1 is available.\n",
      "You should consider upgrading via the '/usr/local/opt/python@3.9/bin/python3.9 -m pip install --upgrade pip' command.\u001b[0m\n",
      "\u001b[38;5;2m✔ Download and installation successful\u001b[0m\n",
      "You can now load the package via spacy.load('es_core_news_sm')\n"
     ]
    }
   ],
   "source": [
    "!python3 -m spacy download es_core_news_sm"
   ]
  },
  {
   "cell_type": "code",
   "execution_count": 56,
   "id": "aab0cf80",
   "metadata": {},
   "outputs": [
    {
     "name": "stdout",
     "output_type": "stream",
     "text": [
      "\u001b[33mDEPRECATION: Configuring installation scheme with distutils config files is deprecated and will no longer work in the near future. If you are using a Homebrew or Linuxbrew Python, please see discussion at https://github.com/Homebrew/homebrew-core/issues/76621\u001b[0m\n",
      "Collecting num2words\n",
      "  Downloading num2words-0.5.12-py3-none-any.whl (125 kB)\n",
      "     |████████████████████████████████| 125 kB 537 kB/s            \n",
      "\u001b[?25hCollecting docopt>=0.6.2\n",
      "  Downloading docopt-0.6.2.tar.gz (25 kB)\n",
      "  Preparing metadata (setup.py) ... \u001b[?25ldone\n",
      "\u001b[?25hBuilding wheels for collected packages: docopt\n",
      "  Building wheel for docopt (setup.py) ... \u001b[?25ldone\n",
      "\u001b[?25h  Created wheel for docopt: filename=docopt-0.6.2-py2.py3-none-any.whl size=13723 sha256=e5dc018b1f51b1fd3013d5be541eec77e4874f40c3e41a63c7171d484bb3cc9f\n",
      "  Stored in directory: /Users/diwavila/Library/Caches/pip/wheels/70/4a/46/1309fc853b8d395e60bafaf1b6df7845bdd82c95fd59dd8d2b\n",
      "Successfully built docopt\n",
      "Installing collected packages: docopt, num2words\n",
      "\u001b[33m  DEPRECATION: Configuring installation scheme with distutils config files is deprecated and will no longer work in the near future. If you are using a Homebrew or Linuxbrew Python, please see discussion at https://github.com/Homebrew/homebrew-core/issues/76621\u001b[0m\n",
      "\u001b[33mDEPRECATION: Configuring installation scheme with distutils config files is deprecated and will no longer work in the near future. If you are using a Homebrew or Linuxbrew Python, please see discussion at https://github.com/Homebrew/homebrew-core/issues/76621\u001b[0m\n",
      "Successfully installed docopt-0.6.2 num2words-0.5.12\n",
      "\u001b[33mWARNING: You are using pip version 21.3.1; however, version 23.0.1 is available.\n",
      "You should consider upgrading via the '/usr/local/opt/python@3.9/bin/python3.9 -m pip install --upgrade pip' command.\u001b[0m\n"
     ]
    }
   ],
   "source": [
    "!pip install num2words"
   ]
  },
  {
   "cell_type": "code",
   "execution_count": null,
   "id": "572dd49d",
   "metadata": {},
   "outputs": [],
   "source": [
    "from num2words import num2words"
   ]
  },
  {
   "cell_type": "code",
   "execution_count": 7,
   "id": "a55148df",
   "metadata": {},
   "outputs": [],
   "source": [
    "'''\n",
    "PREPROCESS:\n",
    "    - Quitar stopwords: spacy decide que la mayoria de palabras son stopwords en castellano asi que quitaremos:\n",
    "        - ADP, AUX, DET, INTJ, PART, PRON, PROPN, PUNCT(?), SYM\n",
    "    - coger el lemma\n",
    "    - convertir todo a lowercase -> token.lemma_.lower()\n",
    "    - convertir numeros a numeros (texto) -> token.like_num (bool) to know wether it is a number, \n",
    "        then import num2words -> num = num2words(int(token.lemma_), lang='es'). SPACY NO FUNCIONA CON CASTELLANO\n",
    "    - treure links\n",
    "    - RETURN list tokens \n",
    "'''\n",
    "\n",
    "nlp = spacy.load('es_core_news_sm')\n",
    "cat_set = {'ADP', 'AUX', 'DET', 'INTJ', 'PART', 'SYM', 'PUNCT'} \n",
    "\n",
    "def preprocess(text):\n",
    "    doc = nlp(text)\n",
    "    return [\n",
    "        num2words(int(token.lemma_), lang='es') if (token.like_num and not token.is_alpha) else token.lemma_.lower()\n",
    "        for token in doc\n",
    "        if not token.like_url and token.tag_ not in cat_set\n",
    "    ] # QUE HAGO CON LOS DECIMALES Y LAS FRACCIONES\n",
    "\n"
   ]
  },
  {
   "cell_type": "code",
   "execution_count": 103,
   "id": "911cfbf0",
   "metadata": {},
   "outputs": [
    {
     "name": "stdout",
     "output_type": "stream",
     "text": [
      "Collecting word2number\n",
      "  Downloading word2number-1.1.zip (9.7 kB)\n",
      "  Preparing metadata (setup.py) ... \u001b[?25ldone\n",
      "\u001b[?25hBuilding wheels for collected packages: word2number\n",
      "  Building wheel for word2number (setup.py) ... \u001b[?25ldone\n",
      "\u001b[?25h  Created wheel for word2number: filename=word2number-1.1-py3-none-any.whl size=5582 sha256=c0120a47cbad74c7446f9d52b9bbb4bae7204d5c3e42138bd388b9c9a95b4712\n",
      "  Stored in directory: /Users/diwavila/Library/Caches/pip/wheels/a0/4a/5b/d2f2df5c344ddbecb8bea759872c207ea91d93f57fb54e816e\n",
      "Successfully built word2number\n",
      "Installing collected packages: word2number\n",
      "Successfully installed word2number-1.1\n",
      "\u001b[33mWARNING: You are using pip version 21.3.1; however, version 23.0.1 is available.\n",
      "You should consider upgrading via the '/usr/local/Cellar/jupyterlab/3.3.0/libexec/bin/python3.9 -m pip install --upgrade pip' command.\u001b[0m\n",
      "Note: you may need to restart the kernel to use updated packages.\n"
     ]
    }
   ],
   "source": [
    "pip install word2number"
   ]
  },
  {
   "cell_type": "code",
   "execution_count": 8,
   "id": "081463a7",
   "metadata": {},
   "outputs": [
    {
     "name": "stdout",
     "output_type": "stream",
     "text": [
      "['que', 'buen', 'definición', 'morata', 'y', 'pase', 'lujo', 'jordi', 'como', 'no', 'disfrutar', 'buen', 'juego']\n"
     ]
    }
   ],
   "source": [
    "print(preprocess('Que buena definición de Morata y el pase de lujo de Jordi. Como no disfrutar del buen juego.'))"
   ]
  },
  {
   "cell_type": "code",
   "execution_count": 9,
   "id": "696f7f0b",
   "metadata": {},
   "outputs": [
    {
     "name": "stdout",
     "output_type": "stream",
     "text": [
      "['hora', 'alejandro', 'balde']\n"
     ]
    }
   ],
   "source": [
    "print(preprocess('HORA DE ALEJANDRO BALDE'))"
   ]
  },
  {
   "cell_type": "code",
   "execution_count": 25,
   "id": "6644ec74",
   "metadata": {},
   "outputs": [
    {
     "name": "stdout",
     "output_type": "stream",
     "text": [
      "['buenos', 'día', '2', 'elefante', 'no', 'saltar', 'nube', 'y', 'tres', 'girafa', 'estar', 'dentro']\n"
     ]
    }
   ],
   "source": [
    "print(preprocess('Buenos días! 2 elefantes no saltaban por las nubes y tres girafas estaban dentro: https://hola.com'))"
   ]
  },
  {
   "cell_type": "code",
   "execution_count": 26,
   "id": "0a9faa74",
   "metadata": {},
   "outputs": [],
   "source": [
    "from sklearn.pipeline import Pipeline\n",
    "from sklearn.preprocessing import StandardScaler\n",
    "from sklearn.svm import SVC\n",
    "from sklearn.naive_bayes import MultinomialNB\n",
    "from sklearn.feature_extraction.text import CountVectorizer\n",
    "from sklearn.feature_extraction.text import TfidfTransformer\n",
    "from sklearn.metrics import classification_report"
   ]
  },
  {
   "cell_type": "code",
   "execution_count": 27,
   "id": "7cd308f3",
   "metadata": {},
   "outputs": [],
   "source": [
    "# model 1: multinomial naive bayes\n",
    "# Feature extraction: count vectorizer > tf-idf perquè suposarem que no hi haurà moltes paraules úniques \n",
    "# (dataset bastant específic i mateix perfil de gent)\n",
    "model1 = Pipeline([   \n",
    "    ('vect', CountVectorizer(tokenizer=preprocess)), \n",
    "    ('clf', MultinomialNB()), \n",
    "])\n",
    "\n",
    "model1.fit(X_train[\"text\"]  , y_train)\n",
    "predicted = model1.predict(X_test[\"text\"])"
   ]
  },
  {
   "cell_type": "code",
   "execution_count": 28,
   "id": "22713d29",
   "metadata": {},
   "outputs": [
    {
     "name": "stdout",
     "output_type": "stream",
     "text": [
      "              precision    recall  f1-score   support\n",
      "\n",
      "           L       0.64      0.51      0.57      2528\n",
      "           N       0.56      0.74      0.64      1998\n",
      "           P       0.62      0.58      0.60      1807\n",
      "\n",
      "    accuracy                           0.60      6333\n",
      "   macro avg       0.61      0.61      0.60      6333\n",
      "weighted avg       0.61      0.60      0.60      6333\n",
      "\n"
     ]
    }
   ],
   "source": [
    "print(classification_report(y_test, predicted, labels=['L', 'N', 'P'])) #fer-ho per jugador"
   ]
  },
  {
   "cell_type": "code",
   "execution_count": 36,
   "id": "30d2eb5f",
   "metadata": {},
   "outputs": [],
   "source": [
    "from sklearn.metrics import confusion_matrix\n",
    "from sklearn.metrics import plot_confusion_matrix\n",
    "from mlxtend.plotting import plot_confusion_matrix"
   ]
  },
  {
   "cell_type": "code",
   "execution_count": 42,
   "id": "886af78c",
   "metadata": {},
   "outputs": [
    {
     "data": {
      "image/png": "[encoded data removed]",
      "text/plain": [
       "<Figure size 216x216 with 1 Axes>"
      ]
     },
     "metadata": {
      "needs_background": "light"
     },
     "output_type": "display_data"
    }
   ],
   "source": [
    "confMatrix = confusion_matrix(  y_test, predicted )\n",
    "fig, ax = plot_confusion_matrix(conf_mat=confMatrix, figsize=(3, 3) , class_names=['L', 'N', 'P'])\n",
    "plt.show()"
   ]
  },
  {
   "cell_type": "code",
   "execution_count": null,
   "id": "4741a341",
   "metadata": {},
   "outputs": [],
   "source": [
    "# Balanced dataset"
   ]
  },
  {
   "cell_type": "code",
   "execution_count": 30,
   "id": "920d6850",
   "metadata": {},
   "outputs": [],
   "source": [
    "from imblearn.under_sampling import RandomUnderSampler"
   ]
  },
  {
   "cell_type": "code",
   "execution_count": 31,
   "id": "fce5c660",
   "metadata": {},
   "outputs": [],
   "source": [
    "rus = RandomUnderSampler( )\n",
    "SubsetX, SubsetY = rus.fit_resample(X_train, y_train)"
   ]
  },
  {
   "cell_type": "code",
   "execution_count": 34,
   "id": "17a242df",
   "metadata": {},
   "outputs": [],
   "source": [
    "model1b = Pipeline([   \n",
    "    ('vect', CountVectorizer(tokenizer=preprocess)), \n",
    "    ('clf', MultinomialNB()), \n",
    "]) # realment mateix model que el 1, simplement fit amb els nous datos i ale\n",
    "\n",
    "model1b.fit(SubsetX[\"text\"]  , SubsetY)\n",
    "predicted1b = model1b.predict(X_test[\"text\"])"
   ]
  },
  {
   "cell_type": "code",
   "execution_count": 35,
   "id": "897cd841",
   "metadata": {},
   "outputs": [
    {
     "name": "stdout",
     "output_type": "stream",
     "text": [
      "              precision    recall  f1-score   support\n",
      "\n",
      "           L       0.69      0.43      0.53      2528\n",
      "           N       0.54      0.76      0.63      1998\n",
      "           P       0.60      0.65      0.62      1807\n",
      "\n",
      "    accuracy                           0.60      6333\n",
      "   macro avg       0.61      0.61      0.59      6333\n",
      "weighted avg       0.62      0.60      0.59      6333\n",
      "\n"
     ]
    }
   ],
   "source": [
    "print(classification_report(y_test, predicted1b, labels=['L', 'N', 'P'])) #fer-ho per jugador"
   ]
  },
  {
   "cell_type": "code",
   "execution_count": 43,
   "id": "27bd541b",
   "metadata": {},
   "outputs": [],
   "source": [
    "from sklearn.model_selection import GridSearchCV"
   ]
  },
  {
   "cell_type": "code",
   "execution_count": 44,
   "id": "00965f2b",
   "metadata": {},
   "outputs": [
    {
     "data": {
      "text/html": [
       "<style>#sk-container-id-1 {color: black;background-color: white;}#sk-container-id-1 pre{padding: 0;}#sk-container-id-1 div.sk-toggleable {background-color: white;}#sk-container-id-1 label.sk-toggleable__label {cursor: pointer;display: block;width: 100%;margin-bottom: 0;padding: 0.3em;box-sizing: border-box;text-align: center;}#sk-container-id-1 label.sk-toggleable__label-arrow:before {content: \"▸\";float: left;margin-right: 0.25em;color: #696969;}#sk-container-id-1 label.sk-toggleable__label-arrow:hover:before {color: black;}#sk-container-id-1 div.sk-estimator:hover label.sk-toggleable__label-arrow:before {color: black;}#sk-container-id-1 div.sk-toggleable__content {max-height: 0;max-width: 0;overflow: hidden;text-align: left;background-color: #f0f8ff;}#sk-container-id-1 div.sk-toggleable__content pre {margin: 0.2em;color: black;border-radius: 0.25em;background-color: #f0f8ff;}#sk-container-id-1 input.sk-toggleable__control:checked~div.sk-toggleable__content {max-height: 200px;max-width: 100%;overflow: auto;}#sk-container-id-1 input.sk-toggleable__control:checked~label.sk-toggleable__label-arrow:before {content: \"▾\";}#sk-container-id-1 div.sk-estimator input.sk-toggleable__control:checked~label.sk-toggleable__label {background-color: #d4ebff;}#sk-container-id-1 div.sk-label input.sk-toggleable__control:checked~label.sk-toggleable__label {background-color: #d4ebff;}#sk-container-id-1 input.sk-hidden--visually {border: 0;clip: rect(1px 1px 1px 1px);clip: rect(1px, 1px, 1px, 1px);height: 1px;margin: -1px;overflow: hidden;padding: 0;position: absolute;width: 1px;}#sk-container-id-1 div.sk-estimator {font-family: monospace;background-color: #f0f8ff;border: 1px dotted black;border-radius: 0.25em;box-sizing: border-box;margin-bottom: 0.5em;}#sk-container-id-1 div.sk-estimator:hover {background-color: #d4ebff;}#sk-container-id-1 div.sk-parallel-item::after {content: \"\";width: 100%;border-bottom: 1px solid gray;flex-grow: 1;}#sk-container-id-1 div.sk-label:hover label.sk-toggleable__label {background-color: #d4ebff;}#sk-container-id-1 div.sk-serial::before {content: \"\";position: absolute;border-left: 1px solid gray;box-sizing: border-box;top: 0;bottom: 0;left: 50%;z-index: 0;}#sk-container-id-1 div.sk-serial {display: flex;flex-direction: column;align-items: center;background-color: white;padding-right: 0.2em;padding-left: 0.2em;position: relative;}#sk-container-id-1 div.sk-item {position: relative;z-index: 1;}#sk-container-id-1 div.sk-parallel {display: flex;align-items: stretch;justify-content: center;background-color: white;position: relative;}#sk-container-id-1 div.sk-item::before, #sk-container-id-1 div.sk-parallel-item::before {content: \"\";position: absolute;border-left: 1px solid gray;box-sizing: border-box;top: 0;bottom: 0;left: 50%;z-index: -1;}#sk-container-id-1 div.sk-parallel-item {display: flex;flex-direction: column;z-index: 1;position: relative;background-color: white;}#sk-container-id-1 div.sk-parallel-item:first-child::after {align-self: flex-end;width: 50%;}#sk-container-id-1 div.sk-parallel-item:last-child::after {align-self: flex-start;width: 50%;}#sk-container-id-1 div.sk-parallel-item:only-child::after {width: 0;}#sk-container-id-1 div.sk-dashed-wrapped {border: 1px dashed gray;margin: 0 0.4em 0.5em 0.4em;box-sizing: border-box;padding-bottom: 0.4em;background-color: white;}#sk-container-id-1 div.sk-label label {font-family: monospace;font-weight: bold;display: inline-block;line-height: 1.2em;}#sk-container-id-1 div.sk-label-container {text-align: center;}#sk-container-id-1 div.sk-container {/* jupyter's `normalize.less` sets `[hidden] { display: none; }` but bootstrap.min.css set `[hidden] { display: none !important; }` so we also need the `!important` here to be able to override the default hidden behavior on the sphinx rendered scikit-learn.org. See: https://github.com/scikit-learn/scikit-learn/issues/21755 */display: inline-block !important;position: relative;}#sk-container-id-1 div.sk-text-repr-fallback {display: none;}</style><div id=\"sk-container-id-1\" class=\"sk-top-container\"><div class=\"sk-text-repr-fallback\"><pre>GridSearchCV(cv=5,\n",
       "             estimator=Pipeline(steps=[(&#x27;vect&#x27;,\n",
       "                                        CountVectorizer(tokenizer=&lt;function preprocess at 0x122b1ad30&gt;)),\n",
       "                                       (&#x27;clf&#x27;, MultinomialNB())]),\n",
       "             param_grid={&#x27;clf__alpha&#x27;: [1, 0.1, 0.5],\n",
       "                         &#x27;vect__binary&#x27;: (True, False),\n",
       "                         &#x27;vect__ngram_range&#x27;: [(1, 1), (1, 2)]})</pre><b>In a Jupyter environment, please rerun this cell to show the HTML representation or trust the notebook. <br />On GitHub, the HTML representation is unable to render, please try loading this page with nbviewer.org.</b></div><div class=\"sk-container\" hidden><div class=\"sk-item sk-dashed-wrapped\"><div class=\"sk-label-container\"><div class=\"sk-label sk-toggleable\"><input class=\"sk-toggleable__control sk-hidden--visually\" id=\"sk-estimator-id-1\" type=\"checkbox\" ><label for=\"sk-estimator-id-1\" class=\"sk-toggleable__label sk-toggleable__label-arrow\">GridSearchCV</label><div class=\"sk-toggleable__content\"><pre>GridSearchCV(cv=5,\n",
       "             estimator=Pipeline(steps=[(&#x27;vect&#x27;,\n",
       "                                        CountVectorizer(tokenizer=&lt;function preprocess at 0x122b1ad30&gt;)),\n",
       "                                       (&#x27;clf&#x27;, MultinomialNB())]),\n",
       "             param_grid={&#x27;clf__alpha&#x27;: [1, 0.1, 0.5],\n",
       "                         &#x27;vect__binary&#x27;: (True, False),\n",
       "                         &#x27;vect__ngram_range&#x27;: [(1, 1), (1, 2)]})</pre></div></div></div><div class=\"sk-parallel\"><div class=\"sk-parallel-item\"><div class=\"sk-item\"><div class=\"sk-label-container\"><div class=\"sk-label sk-toggleable\"><input class=\"sk-toggleable__control sk-hidden--visually\" id=\"sk-estimator-id-2\" type=\"checkbox\" ><label for=\"sk-estimator-id-2\" class=\"sk-toggleable__label sk-toggleable__label-arrow\">estimator: Pipeline</label><div class=\"sk-toggleable__content\"><pre>Pipeline(steps=[(&#x27;vect&#x27;,\n",
       "                 CountVectorizer(tokenizer=&lt;function preprocess at 0x122b1ad30&gt;)),\n",
       "                (&#x27;clf&#x27;, MultinomialNB())])</pre></div></div></div><div class=\"sk-serial\"><div class=\"sk-item\"><div class=\"sk-serial\"><div class=\"sk-item\"><div class=\"sk-estimator sk-toggleable\"><input class=\"sk-toggleable__control sk-hidden--visually\" id=\"sk-estimator-id-3\" type=\"checkbox\" ><label for=\"sk-estimator-id-3\" class=\"sk-toggleable__label sk-toggleable__label-arrow\">CountVectorizer</label><div class=\"sk-toggleable__content\"><pre>CountVectorizer(tokenizer=&lt;function preprocess at 0x122b1ad30&gt;)</pre></div></div></div><div class=\"sk-item\"><div class=\"sk-estimator sk-toggleable\"><input class=\"sk-toggleable__control sk-hidden--visually\" id=\"sk-estimator-id-4\" type=\"checkbox\" ><label for=\"sk-estimator-id-4\" class=\"sk-toggleable__label sk-toggleable__label-arrow\">MultinomialNB</label><div class=\"sk-toggleable__content\"><pre>MultinomialNB()</pre></div></div></div></div></div></div></div></div></div></div></div></div>"
      ],
      "text/plain": [
       "GridSearchCV(cv=5,\n",
       "             estimator=Pipeline(steps=[('vect',\n",
       "                                        CountVectorizer(tokenizer=<function preprocess at 0x122b1ad30>)),\n",
       "                                       ('clf', MultinomialNB())]),\n",
       "             param_grid={'clf__alpha': [1, 0.1, 0.5],\n",
       "                         'vect__binary': (True, False),\n",
       "                         'vect__ngram_range': [(1, 1), (1, 2)]})"
      ]
     },
     "execution_count": 44,
     "metadata": {},
     "output_type": "execute_result"
    }
   ],
   "source": [
    "# same pipeline as model1\n",
    "parameters = {'vect__binary':(True, False), 'vect__ngram_range':[(1,1) , (1,2)] , 'clf__alpha':[1 , 0.1, 0.5]}\n",
    "cross_val = GridSearchCV(model1, parameters , cv = 5)\n",
    "cross_val.fit(X_train[\"text\"]  , y_train)\n",
    "\n"
   ]
  },
  {
   "cell_type": "code",
   "execution_count": 45,
   "id": "4397acf5",
   "metadata": {},
   "outputs": [
    {
     "name": "stdout",
     "output_type": "stream",
     "text": [
      "Best parameter (CV score=0.622):\n",
      "{'clf__alpha': 0.5, 'vect__binary': False, 'vect__ngram_range': (1, 2)}\n"
     ]
    }
   ],
   "source": [
    "print(\"Best parameter (CV score=%0.3f):\" % cross_val.best_score_)\n",
    "print(cross_val.best_params_)"
   ]
  },
  {
   "cell_type": "code",
   "execution_count": 51,
   "id": "d24f8e94",
   "metadata": {},
   "outputs": [],
   "source": [
    "best_nb = Pipeline([   \n",
    "    ('vect', CountVectorizer(binary=False, tokenizer=preprocess, ngram_range=(1,2))), \n",
    "    ('clf', MultinomialNB(alpha=0.5)), \n",
    "])\n",
    "\n",
    "best_nb.fit(X_train[\"text\"]  , y_train)\n",
    "nb_predicted = best_nb.predict(X_test[\"text\"])"
   ]
  },
  {
   "cell_type": "code",
   "execution_count": 52,
   "id": "6bbbe441",
   "metadata": {},
   "outputs": [
    {
     "name": "stdout",
     "output_type": "stream",
     "text": [
      "              precision    recall  f1-score   support\n",
      "\n",
      "           L       0.65      0.52      0.57      2528\n",
      "           N       0.57      0.73      0.64      1998\n",
      "           P       0.64      0.62      0.63      1807\n",
      "\n",
      "    accuracy                           0.61      6333\n",
      "   macro avg       0.62      0.62      0.62      6333\n",
      "weighted avg       0.62      0.61      0.61      6333\n",
      "\n"
     ]
    }
   ],
   "source": [
    "print(classification_report(y_test, nb_predicted, labels=['L', 'N', 'P'])) #fer-ho per jugador"
   ]
  }
 ],
 "metadata": {
  "kernelspec": {
   "display_name": "Python 3 (ipykernel)",
   "language": "python",
   "name": "python3"
  },
  "language_info": {
   "codemirror_mode": {
    "name": "ipython",
    "version": 3
   },
   "file_extension": ".py",
   "mimetype": "text/x-python",
   "name": "python",
   "nbconvert_exporter": "python",
   "pygments_lexer": "ipython3",
   "version": "3.9.10"
  }
 },
 "nbformat": 4,
 "nbformat_minor": 5
}
